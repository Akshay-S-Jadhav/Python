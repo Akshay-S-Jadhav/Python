{
 "cells": [
  {
   "cell_type": "markdown",
   "metadata": {},
   "source": [
    "# Rolling Dice Simulator"
   ]
  },
  {
   "cell_type": "code",
   "execution_count": 8,
   "metadata": {},
   "outputs": [
    {
     "name": "stdout",
     "output_type": "stream",
     "text": [
      "Press Enter to roll the dice \n",
      "You rolled: 3\n",
      "Roll again? (y/n): y\n",
      "Press Enter to roll the dice \n",
      "You rolled: 5\n",
      "Roll again? (y/n): y\n",
      "Press Enter to roll the dice \n",
      "You rolled: 3\n",
      "Roll again? (y/n): y\n",
      "Press Enter to roll the dice \n",
      "You rolled: 5\n",
      "Roll again? (y/n): y\n",
      "Press Enter to roll the dice \n",
      "You rolled: 6\n",
      "Roll again? (y/n): n\n"
     ]
    }
   ],
   "source": [
    "import random\n",
    "\n",
    "def roll_dice():\n",
    "    while True:\n",
    "        input(\"Press Enter to roll the dice \")\n",
    "        roll_result = random.randint(1, 6)\n",
    "        print(f\"You rolled: {roll_result}\")\n",
    "        \n",
    "        if input(\"Roll again? (y/n): \").lower() != 'y':\n",
    "            break\n",
    "\n",
    "roll_dice()"
   ]
  },
  {
   "cell_type": "code",
   "execution_count": null,
   "metadata": {},
   "outputs": [],
   "source": []
  }
 ],
 "metadata": {
  "kernelspec": {
   "display_name": "Python 3",
   "language": "python",
   "name": "python3"
  },
  "language_info": {
   "codemirror_mode": {
    "name": "ipython",
    "version": 3
   },
   "file_extension": ".py",
   "mimetype": "text/x-python",
   "name": "python",
   "nbconvert_exporter": "python",
   "pygments_lexer": "ipython3",
   "version": "3.8.5"
  }
 },
 "nbformat": 4,
 "nbformat_minor": 4
}
