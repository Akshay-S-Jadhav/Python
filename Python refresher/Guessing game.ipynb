{
 "cells": [
  {
   "cell_type": "markdown",
   "metadata": {},
   "source": [
    "# Guessing Game \n",
    "This is the game where the player has to guess correct number"
   ]
  },
  {
   "cell_type": "code",
   "execution_count": 3,
   "metadata": {},
   "outputs": [
    {
     "name": "stdout",
     "output_type": "stream",
     "text": [
      "Guess the number between 1 and 100 : 5\n",
      "Your number is Smaller, try again...\n",
      "Guess the number between 1 and 100 : 50\n",
      "Your number is Smaller, try again...\n",
      "Guess the number between 1 and 100 : 80\n",
      "Your number is Smaller, try again...\n",
      "Guess the number between 1 and 100 : 99\n",
      "Your number is Greater, try again...\n",
      "Guess the number between 1 and 100 : 85\n",
      "Your number is Greater, try again...\n",
      "Guess the number between 1 and 100 : 82\n",
      "Congratulations ! You have guessed the correct number in  1  attempts, and your number was  82\n"
     ]
    }
   ],
   "source": [
    "import random\n",
    "\n",
    "def guessing_game():\n",
    "    num = random.randint(1,100)\n",
    "    attempts = 0\n",
    "    \n",
    "    while True:\n",
    "        guess = int(input(\"Guess the number between 1 and 100 : \"))\n",
    "        attempts = +1\n",
    "        \n",
    "        if guess < num :\n",
    "            print(\"Your number is Smaller, try again...\")\n",
    "        elif guess > num :\n",
    "            print(\"Your number is Greater, try again...\")\n",
    "        else:\n",
    "            print(\"Congratulations ! You have guessed the correct number in \",\n",
    "                  attempts ,\" attempts, and your number was \", num)\n",
    "            break\n",
    "            \n",
    "guessing_game()"
   ]
  },
  {
   "cell_type": "code",
   "execution_count": null,
   "metadata": {},
   "outputs": [],
   "source": []
  }
 ],
 "metadata": {
  "kernelspec": {
   "display_name": "Python 3",
   "language": "python",
   "name": "python3"
  },
  "language_info": {
   "codemirror_mode": {
    "name": "ipython",
    "version": 3
   },
   "file_extension": ".py",
   "mimetype": "text/x-python",
   "name": "python",
   "nbconvert_exporter": "python",
   "pygments_lexer": "ipython3",
   "version": "3.8.5"
  }
 },
 "nbformat": 4,
 "nbformat_minor": 4
}
