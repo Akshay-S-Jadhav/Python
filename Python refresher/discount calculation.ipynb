{
 "cells": [
  {
   "cell_type": "markdown",
   "metadata": {},
   "source": [
    "# Discount calculation\n",
    "\n",
    "Basic Program to get discount"
   ]
  },
  {
   "cell_type": "code",
   "execution_count": 2,
   "metadata": {},
   "outputs": [
    {
     "name": "stdout",
     "output_type": "stream",
     "text": [
      "Lets compute the discount\n",
      "Enter the cost of the item :100\n",
      "The cost the item after discount is  90.0\n"
     ]
    }
   ],
   "source": [
    "print(\"Lets compute the discount\")\n",
    "c = int(input(\"Enter the cost of the item :\"))\n",
    "\n",
    "cost = 0.9 * c\n",
    "print(\"The cost the item after discount is \",cost)"
   ]
  },
  {
   "cell_type": "code",
   "execution_count": null,
   "metadata": {},
   "outputs": [],
   "source": []
  }
 ],
 "metadata": {
  "kernelspec": {
   "display_name": "Python 3",
   "language": "python",
   "name": "python3"
  },
  "language_info": {
   "codemirror_mode": {
    "name": "ipython",
    "version": 3
   },
   "file_extension": ".py",
   "mimetype": "text/x-python",
   "name": "python",
   "nbconvert_exporter": "python",
   "pygments_lexer": "ipython3",
   "version": "3.8.5"
  }
 },
 "nbformat": 4,
 "nbformat_minor": 4
}
