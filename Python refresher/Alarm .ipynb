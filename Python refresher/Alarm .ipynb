{
 "cells": [
  {
   "cell_type": "markdown",
   "metadata": {},
   "source": [
    "# Alarm "
   ]
  },
  {
   "cell_type": "code",
   "execution_count": null,
   "metadata": {},
   "outputs": [],
   "source": [
    "import datetime\n",
    "import time\n",
    "\n",
    "def set_alarm():\n",
    "    alarm_time = input(\"Enter the time for the alarm in HH:MM format: \")\n",
    "    alarm_hour, alarm_minute = map(int, alarm_time.split(':'))\n",
    "\n",
    "    while True:\n",
    "        current_time = datetime.datetime.now()\n",
    "        if current_time.hour == alarm_hour and current_time.minute == alarm_minute:\n",
    "            print(\"Wake up!\")\n",
    "            break\n",
    "        time.sleep(60)  # Check every minute\n",
    "\n",
    "set_alarm()\n"
   ]
  }
 ],
 "metadata": {
  "kernelspec": {
   "display_name": "Python 3",
   "language": "python",
   "name": "python3"
  },
  "language_info": {
   "codemirror_mode": {
    "name": "ipython",
    "version": 3
   },
   "file_extension": ".py",
   "mimetype": "text/x-python",
   "name": "python",
   "nbconvert_exporter": "python",
   "pygments_lexer": "ipython3",
   "version": "3.8.5"
  }
 },
 "nbformat": 4,
 "nbformat_minor": 4
}
