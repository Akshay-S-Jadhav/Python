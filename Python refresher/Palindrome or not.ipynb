{
 "cells": [
  {
   "cell_type": "markdown",
   "metadata": {},
   "source": [
    "# Palindrome or not"
   ]
  },
  {
   "cell_type": "code",
   "execution_count": 8,
   "metadata": {},
   "outputs": [
    {
     "name": "stdout",
     "output_type": "stream",
     "text": [
      "Enter a string to check for palindrome: wow\n",
      "'wow' is a palindrome.\n",
      "Want to check for more, if yes type 1 else 0 : 1\n",
      "Enter a string to check for palindrome: level\n",
      "'level' is a palindrome.\n",
      "Want to check for more, if yes type 1 else 0 : 1\n",
      "Enter a string to check for palindrome: civic\n",
      "'civic' is a palindrome.\n",
      "Want to check for more, if yes type 1 else 0 : 1\n",
      "Enter a string to check for palindrome: rational\n",
      "'rational' is not a palindrome.\n",
      "Want to check for more, if yes type 1 else 0 : 1\n",
      "Enter a string to check for palindrome: rotator\n",
      "'rotator' is a palindrome.\n",
      "Want to check for more, if yes type 1 else 0 : 0\n",
      "Thank you\n"
     ]
    }
   ],
   "source": [
    "def is_palindrome(s):\n",
    "    # Remove non-alphanumeric characters and convert to lowercase\n",
    "    s = ''.join(e.lower() for e in s if e.isalnum())\n",
    "    \n",
    "    # Check if the string is equal to its reverse\n",
    "    return s == s[::-1]\n",
    "\n",
    "def palindrome_checker():\n",
    "    user_input = input(\"Enter a string to check for palindrome: \")\n",
    "    if is_palindrome(user_input):\n",
    "        print(f\"'{user_input}' is a palindrome.\")\n",
    "    else:\n",
    "        print(f\"'{user_input}' is not a palindrome.\")\n",
    "        \n",
    "    i = int(input(\"Want to check for more, if yes type 1 else 0 : \"))\n",
    "    if i == 1 :\n",
    "        palindrome_checker()\n",
    "    else:\n",
    "        print(\"Thank you\")\n",
    "\n",
    "palindrome_checker()\n"
   ]
  },
  {
   "cell_type": "code",
   "execution_count": null,
   "metadata": {},
   "outputs": [],
   "source": []
  }
 ],
 "metadata": {
  "kernelspec": {
   "display_name": "Python 3",
   "language": "python",
   "name": "python3"
  },
  "language_info": {
   "codemirror_mode": {
    "name": "ipython",
    "version": 3
   },
   "file_extension": ".py",
   "mimetype": "text/x-python",
   "name": "python",
   "nbconvert_exporter": "python",
   "pygments_lexer": "ipython3",
   "version": "3.8.5"
  }
 },
 "nbformat": 4,
 "nbformat_minor": 4
}
