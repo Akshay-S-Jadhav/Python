{
 "cells": [
  {
   "cell_type": "markdown",
   "metadata": {},
   "source": [
    "# Email Slicer\n"
   ]
  },
  {
   "cell_type": "code",
   "execution_count": 1,
   "metadata": {},
   "outputs": [
    {
     "name": "stdout",
     "output_type": "stream",
     "text": [
      "Enter your email address: asj@gmail.com\n",
      "Username: asj\n",
      "Domain: gmail.com\n"
     ]
    }
   ],
   "source": [
    "def email_slicer():\n",
    "    email = input(\"Enter your email address: \").strip()\n",
    "    username = email[:email.index('@')]\n",
    "    domain = email[email.index('@') + 1:]\n",
    "    print(f\"Username: {username}\\nDomain: {domain}\")\n",
    "\n",
    "email_slicer()"
   ]
  },
  {
   "cell_type": "code",
   "execution_count": null,
   "metadata": {},
   "outputs": [],
   "source": []
  }
 ],
 "metadata": {
  "kernelspec": {
   "display_name": "Python 3",
   "language": "python",
   "name": "python3"
  },
  "language_info": {
   "codemirror_mode": {
    "name": "ipython",
    "version": 3
   },
   "file_extension": ".py",
   "mimetype": "text/x-python",
   "name": "python",
   "nbconvert_exporter": "python",
   "pygments_lexer": "ipython3",
   "version": "3.8.5"
  }
 },
 "nbformat": 4,
 "nbformat_minor": 4
}
