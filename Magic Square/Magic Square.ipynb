{
 "cells": [
  {
   "cell_type": "code",
   "execution_count": 16,
   "metadata": {},
   "outputs": [
    {
     "name": "stdout",
     "output_type": "stream",
     "text": [
      "Enter the size of matrix : 5\n",
      "________________________________________________________\n",
      "9 3 22 16 15 \n",
      "2 21 20 14 8 \n",
      "25 19 13 7 1 \n",
      "18 12 6 5 24 \n",
      "11 10 4 23 17 \n",
      "________________________________________________________\n",
      "Total number of cells in matrix is : 25\n",
      "The sum of each row, column and diagonal is : 65.0\n",
      "________________________________________________________\n"
     ]
    }
   ],
   "source": [
    "def magic_square():\n",
    "    n = int(input(\"Enter the size of matrix : \"))\n",
    "    print(\"________________________________________________________\")\n",
    "    magicSquare = []\n",
    "    for i in range(n):\n",
    "        l = []\n",
    "        for j in range(n):\n",
    "            l.append(0)\n",
    "        magicSquare.append(l)\n",
    "        \n",
    "    i = n//2\n",
    "    j = n-1\n",
    "    \n",
    "    num = n*n\n",
    "    count = 1\n",
    "    \n",
    "    while(count<=num):\n",
    "        if(i==-1 and j==n):\n",
    "            j=n-2\n",
    "            i=0\n",
    "        else:    \n",
    "            if(j==n):\n",
    "                j=0\n",
    "            if(i<0):\n",
    "                i = n-1\n",
    "        if(magicSquare[i][j]!=0):\n",
    "            j=j-2\n",
    "            i=i+1\n",
    "            continue\n",
    "        else:\n",
    "            magicSquare[i][j]=count\n",
    "            count+=1\n",
    "            \n",
    "        i=i-1\n",
    "        j=j+1\n",
    "        \n",
    "    for i in range(n):\n",
    "        for j in range(n):\n",
    "            print(magicSquare[i][j],end=\" \")\n",
    "        print()\n",
    "    print(\"________________________________________________________\")\n",
    "    print(\"Total number of cells in matrix is : \"+ str(n*n))\n",
    "    print(\"The sum of each row, column and diagonal is : \" + str(n*(n**2+1)/2))\n",
    "    print(\"________________________________________________________\")\n",
    "    \n",
    "magic_square()"
   ]
  },
  {
   "cell_type": "code",
   "execution_count": null,
   "metadata": {},
   "outputs": [],
   "source": []
  }
 ],
 "metadata": {
  "kernelspec": {
   "display_name": "Python 3",
   "language": "python",
   "name": "python3"
  },
  "language_info": {
   "codemirror_mode": {
    "name": "ipython",
    "version": 3
   },
   "file_extension": ".py",
   "mimetype": "text/x-python",
   "name": "python",
   "nbconvert_exporter": "python",
   "pygments_lexer": "ipython3",
   "version": "3.8.5"
  }
 },
 "nbformat": 4,
 "nbformat_minor": 4
}
